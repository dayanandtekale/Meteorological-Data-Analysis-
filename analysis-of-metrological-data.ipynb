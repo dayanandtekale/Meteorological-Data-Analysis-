{
 "cells": [
  {
   "cell_type": "markdown",
   "metadata": {
    "_cell_guid": "b1076dfc-b9ad-4769-8c92-a6c4dae69d19",
    "_uuid": "8f2839f25d086af736a60e9eeb907d3b93b6e0e5",
    "execution": {
     "iopub.execute_input": "2020-12-23T09:02:43.770005Z",
     "iopub.status.busy": "2020-12-23T09:02:43.769096Z",
     "iopub.status.idle": "2020-12-23T09:02:43.783371Z",
     "shell.execute_reply": "2020-12-23T09:02:43.782612Z"
    },
    "papermill": {
     "duration": 0.046944,
     "end_time": "2020-12-23T09:02:43.783529",
     "exception": false,
     "start_time": "2020-12-23T09:02:43.736585",
     "status": "completed"
    },
    "tags": []
   },
   "source": [
    "## Meterological Data Analysis\n",
    "\n",
    "#### The Meteorological Dataset Consists of:\n",
    "\n",
    "* Total Number of Data Point: 96453\n",
    "* Total Number of Attribute/Columns in data set is 12.\n",
    "\n",
    "#### Attribute Information:\n",
    "\n",
    "1. Formatted Date\n",
    "2. Summary\n",
    "3. Precip Type\n",
    "4. Temperature (C)\n",
    "5. Apparent Temperature (C)\n",
    "6. Humidity\n",
    "7. Wind Speed (km/h)\n",
    "8. Wind Bearing (degrees)\n",
    "9. Visibility (km)\n",
    "10. Loud Cover\n",
    "11. Pressure (millibars)\n",
    "12. Daily Summary"
   ]
  },
  {
   "cell_type": "code",
   "execution_count": 13,
   "metadata": {
    "_cell_guid": "79c7e3d0-c299-4dcb-8224-4455121ee9b0",
    "_uuid": "d629ff2d2480ee46fbb7e2d37f6b5fab8052498a",
    "execution": {
     "iopub.execute_input": "2020-12-23T09:02:43.839828Z",
     "iopub.status.busy": "2020-12-23T09:02:43.839093Z",
     "iopub.status.idle": "2020-12-23T09:02:45.054194Z",
     "shell.execute_reply": "2020-12-23T09:02:45.053206Z"
    },
    "papermill": {
     "duration": 1.245217,
     "end_time": "2020-12-23T09:02:45.054339",
     "exception": false,
     "start_time": "2020-12-23T09:02:43.809122",
     "status": "completed"
    },
    "tags": []
   },
   "outputs": [],
   "source": [
    "#import libraries\n",
    "import numpy as np # linear algebra\n",
    "import pandas as pd \n",
    "import matplotlib.pyplot as plt\n",
    "import seaborn as sns\n",
    "\n",
    "import warnings\n",
    "warnings.filterwarnings(\"ignore\")"
   ]
  },
  {
   "cell_type": "code",
   "execution_count": 14,
   "metadata": {
    "execution": {
     "iopub.execute_input": "2020-12-23T09:02:45.110255Z",
     "iopub.status.busy": "2020-12-23T09:02:45.109607Z",
     "iopub.status.idle": "2020-12-23T09:02:45.586470Z",
     "shell.execute_reply": "2020-12-23T09:02:45.587098Z"
    },
    "papermill": {
     "duration": 0.508399,
     "end_time": "2020-12-23T09:02:45.587250",
     "exception": false,
     "start_time": "2020-12-23T09:02:45.078851",
     "status": "completed"
    },
    "tags": []
   },
   "outputs": [
    {
     "data": {
      "text/plain": [
       "(96453, 12)"
      ]
     },
     "execution_count": 14,
     "metadata": {},
     "output_type": "execute_result"
    }
   ],
   "source": [
    "#data = pd.read_csv('/kaggle/input/weather-dataset/weatherHistory.csv')\n",
    "data = pd.read_csv('weatherHistory.csv')\n",
    "\n",
    "data.shape"
   ]
  },
  {
   "cell_type": "code",
   "execution_count": 15,
   "metadata": {
    "execution": {
     "iopub.execute_input": "2020-12-23T09:02:45.660123Z",
     "iopub.status.busy": "2020-12-23T09:02:45.659196Z",
     "iopub.status.idle": "2020-12-23T09:02:45.673750Z",
     "shell.execute_reply": "2020-12-23T09:02:45.674336Z"
    },
    "papermill": {
     "duration": 0.062387,
     "end_time": "2020-12-23T09:02:45.674538",
     "exception": false,
     "start_time": "2020-12-23T09:02:45.612151",
     "status": "completed"
    },
    "tags": []
   },
   "outputs": [
    {
     "data": {
      "text/html": [
       "<div>\n",
       "<style scoped>\n",
       "    .dataframe tbody tr th:only-of-type {\n",
       "        vertical-align: middle;\n",
       "    }\n",
       "\n",
       "    .dataframe tbody tr th {\n",
       "        vertical-align: top;\n",
       "    }\n",
       "\n",
       "    .dataframe thead th {\n",
       "        text-align: right;\n",
       "    }\n",
       "</style>\n",
       "<table border=\"1\" class=\"dataframe\">\n",
       "  <thead>\n",
       "    <tr style=\"text-align: right;\">\n",
       "      <th></th>\n",
       "      <th>Formatted Date</th>\n",
       "      <th>Summary</th>\n",
       "      <th>Precip Type</th>\n",
       "      <th>Temperature (C)</th>\n",
       "      <th>Apparent Temperature (C)</th>\n",
       "      <th>Humidity</th>\n",
       "      <th>Wind Speed (km/h)</th>\n",
       "      <th>Wind Bearing (degrees)</th>\n",
       "      <th>Visibility (km)</th>\n",
       "      <th>Loud Cover</th>\n",
       "      <th>Pressure (millibars)</th>\n",
       "      <th>Daily Summary</th>\n",
       "    </tr>\n",
       "  </thead>\n",
       "  <tbody>\n",
       "    <tr>\n",
       "      <th>0</th>\n",
       "      <td>2006-04-01 00:00:00.000 +0200</td>\n",
       "      <td>Partly Cloudy</td>\n",
       "      <td>rain</td>\n",
       "      <td>9.472222</td>\n",
       "      <td>7.388889</td>\n",
       "      <td>0.89</td>\n",
       "      <td>14.1197</td>\n",
       "      <td>251.0</td>\n",
       "      <td>15.8263</td>\n",
       "      <td>0.0</td>\n",
       "      <td>1015.13</td>\n",
       "      <td>Partly cloudy throughout the day.</td>\n",
       "    </tr>\n",
       "    <tr>\n",
       "      <th>1</th>\n",
       "      <td>2006-04-01 01:00:00.000 +0200</td>\n",
       "      <td>Partly Cloudy</td>\n",
       "      <td>rain</td>\n",
       "      <td>9.355556</td>\n",
       "      <td>7.227778</td>\n",
       "      <td>0.86</td>\n",
       "      <td>14.2646</td>\n",
       "      <td>259.0</td>\n",
       "      <td>15.8263</td>\n",
       "      <td>0.0</td>\n",
       "      <td>1015.63</td>\n",
       "      <td>Partly cloudy throughout the day.</td>\n",
       "    </tr>\n",
       "    <tr>\n",
       "      <th>2</th>\n",
       "      <td>2006-04-01 02:00:00.000 +0200</td>\n",
       "      <td>Mostly Cloudy</td>\n",
       "      <td>rain</td>\n",
       "      <td>9.377778</td>\n",
       "      <td>9.377778</td>\n",
       "      <td>0.89</td>\n",
       "      <td>3.9284</td>\n",
       "      <td>204.0</td>\n",
       "      <td>14.9569</td>\n",
       "      <td>0.0</td>\n",
       "      <td>1015.94</td>\n",
       "      <td>Partly cloudy throughout the day.</td>\n",
       "    </tr>\n",
       "    <tr>\n",
       "      <th>3</th>\n",
       "      <td>2006-04-01 03:00:00.000 +0200</td>\n",
       "      <td>Partly Cloudy</td>\n",
       "      <td>rain</td>\n",
       "      <td>8.288889</td>\n",
       "      <td>5.944444</td>\n",
       "      <td>0.83</td>\n",
       "      <td>14.1036</td>\n",
       "      <td>269.0</td>\n",
       "      <td>15.8263</td>\n",
       "      <td>0.0</td>\n",
       "      <td>1016.41</td>\n",
       "      <td>Partly cloudy throughout the day.</td>\n",
       "    </tr>\n",
       "    <tr>\n",
       "      <th>4</th>\n",
       "      <td>2006-04-01 04:00:00.000 +0200</td>\n",
       "      <td>Mostly Cloudy</td>\n",
       "      <td>rain</td>\n",
       "      <td>8.755556</td>\n",
       "      <td>6.977778</td>\n",
       "      <td>0.83</td>\n",
       "      <td>11.0446</td>\n",
       "      <td>259.0</td>\n",
       "      <td>15.8263</td>\n",
       "      <td>0.0</td>\n",
       "      <td>1016.51</td>\n",
       "      <td>Partly cloudy throughout the day.</td>\n",
       "    </tr>\n",
       "  </tbody>\n",
       "</table>\n",
       "</div>"
      ],
      "text/plain": [
       "                  Formatted Date        Summary Precip Type  Temperature (C)  \\\n",
       "0  2006-04-01 00:00:00.000 +0200  Partly Cloudy        rain         9.472222   \n",
       "1  2006-04-01 01:00:00.000 +0200  Partly Cloudy        rain         9.355556   \n",
       "2  2006-04-01 02:00:00.000 +0200  Mostly Cloudy        rain         9.377778   \n",
       "3  2006-04-01 03:00:00.000 +0200  Partly Cloudy        rain         8.288889   \n",
       "4  2006-04-01 04:00:00.000 +0200  Mostly Cloudy        rain         8.755556   \n",
       "\n",
       "   Apparent Temperature (C)  Humidity  Wind Speed (km/h)  \\\n",
       "0                  7.388889      0.89            14.1197   \n",
       "1                  7.227778      0.86            14.2646   \n",
       "2                  9.377778      0.89             3.9284   \n",
       "3                  5.944444      0.83            14.1036   \n",
       "4                  6.977778      0.83            11.0446   \n",
       "\n",
       "   Wind Bearing (degrees)  Visibility (km)  Loud Cover  Pressure (millibars)  \\\n",
       "0                   251.0          15.8263         0.0               1015.13   \n",
       "1                   259.0          15.8263         0.0               1015.63   \n",
       "2                   204.0          14.9569         0.0               1015.94   \n",
       "3                   269.0          15.8263         0.0               1016.41   \n",
       "4                   259.0          15.8263         0.0               1016.51   \n",
       "\n",
       "                       Daily Summary  \n",
       "0  Partly cloudy throughout the day.  \n",
       "1  Partly cloudy throughout the day.  \n",
       "2  Partly cloudy throughout the day.  \n",
       "3  Partly cloudy throughout the day.  \n",
       "4  Partly cloudy throughout the day.  "
      ]
     },
     "execution_count": 15,
     "metadata": {},
     "output_type": "execute_result"
    }
   ],
   "source": [
    "data.head()"
   ]
  },
  {
   "cell_type": "code",
   "execution_count": 16,
   "metadata": {
    "execution": {
     "iopub.execute_input": "2020-12-23T09:02:45.732502Z",
     "iopub.status.busy": "2020-12-23T09:02:45.731078Z",
     "iopub.status.idle": "2020-12-23T09:02:45.747770Z",
     "shell.execute_reply": "2020-12-23T09:02:45.747160Z"
    },
    "papermill": {
     "duration": 0.047315,
     "end_time": "2020-12-23T09:02:45.747891",
     "exception": false,
     "start_time": "2020-12-23T09:02:45.700576",
     "status": "completed"
    },
    "tags": []
   },
   "outputs": [
    {
     "data": {
      "text/plain": [
       "Formatted Date               object\n",
       "Summary                      object\n",
       "Precip Type                  object\n",
       "Temperature (C)             float64\n",
       "Apparent Temperature (C)    float64\n",
       "Humidity                    float64\n",
       "Wind Speed (km/h)           float64\n",
       "Wind Bearing (degrees)      float64\n",
       "Visibility (km)             float64\n",
       "Loud Cover                  float64\n",
       "Pressure (millibars)        float64\n",
       "Daily Summary                object\n",
       "dtype: object"
      ]
     },
     "execution_count": 16,
     "metadata": {},
     "output_type": "execute_result"
    }
   ],
   "source": [
    "df = data.copy()\n",
    "df.dtypes"
   ]
  },
  {
   "cell_type": "code",
   "execution_count": 17,
   "metadata": {
    "execution": {
     "iopub.execute_input": "2020-12-23T09:02:45.840603Z",
     "iopub.status.busy": "2020-12-23T09:02:45.829991Z",
     "iopub.status.idle": "2020-12-23T09:02:46.884084Z",
     "shell.execute_reply": "2020-12-23T09:02:46.883143Z"
    },
    "papermill": {
     "duration": 1.110038,
     "end_time": "2020-12-23T09:02:46.884363",
     "exception": false,
     "start_time": "2020-12-23T09:02:45.774325",
     "status": "completed"
    },
    "tags": []
   },
   "outputs": [],
   "source": [
    "# let's correct the dtype of formatted date\n",
    "\n",
    "df['Formatted Date'] = pd.to_datetime(df['Formatted Date'], utc=True)"
   ]
  },
  {
   "cell_type": "code",
   "execution_count": 18,
   "metadata": {
    "execution": {
     "iopub.execute_input": "2020-12-23T09:02:46.965815Z",
     "iopub.status.busy": "2020-12-23T09:02:46.964723Z",
     "iopub.status.idle": "2020-12-23T09:02:46.971407Z",
     "shell.execute_reply": "2020-12-23T09:02:46.970600Z"
    },
    "papermill": {
     "duration": 0.047568,
     "end_time": "2020-12-23T09:02:46.971591",
     "exception": false,
     "start_time": "2020-12-23T09:02:46.924023",
     "status": "completed"
    },
    "tags": []
   },
   "outputs": [
    {
     "data": {
      "text/plain": [
       "Formatted Date              datetime64[ns, UTC]\n",
       "Summary                                  object\n",
       "Precip Type                              object\n",
       "Temperature (C)                         float64\n",
       "Apparent Temperature (C)                float64\n",
       "Humidity                                float64\n",
       "Wind Speed (km/h)                       float64\n",
       "Wind Bearing (degrees)                  float64\n",
       "Visibility (km)                         float64\n",
       "Loud Cover                              float64\n",
       "Pressure (millibars)                    float64\n",
       "Daily Summary                            object\n",
       "dtype: object"
      ]
     },
     "execution_count": 18,
     "metadata": {},
     "output_type": "execute_result"
    }
   ],
   "source": [
    "df.dtypes"
   ]
  },
  {
   "cell_type": "markdown",
   "metadata": {
    "papermill": {
     "duration": 0.031536,
     "end_time": "2020-12-23T09:02:47.036605",
     "exception": false,
     "start_time": "2020-12-23T09:02:47.005069",
     "status": "completed"
    },
    "tags": []
   },
   "source": [
    "**Before moving forward, let's check for missing values**"
   ]
  },
  {
   "cell_type": "code",
   "execution_count": 19,
   "metadata": {
    "execution": {
     "iopub.execute_input": "2020-12-23T09:02:47.099308Z",
     "iopub.status.busy": "2020-12-23T09:02:47.098250Z",
     "iopub.status.idle": "2020-12-23T09:02:47.141134Z",
     "shell.execute_reply": "2020-12-23T09:02:47.140453Z"
    },
    "papermill": {
     "duration": 0.07445,
     "end_time": "2020-12-23T09:02:47.141263",
     "exception": false,
     "start_time": "2020-12-23T09:02:47.066813",
     "status": "completed"
    },
    "tags": []
   },
   "outputs": [
    {
     "data": {
      "text/plain": [
       "Formatted Date                0\n",
       "Summary                       0\n",
       "Precip Type                 517\n",
       "Temperature (C)               0\n",
       "Apparent Temperature (C)      0\n",
       "Humidity                      0\n",
       "Wind Speed (km/h)             0\n",
       "Wind Bearing (degrees)        0\n",
       "Visibility (km)               0\n",
       "Loud Cover                    0\n",
       "Pressure (millibars)          0\n",
       "Daily Summary                 0\n",
       "dtype: int64"
      ]
     },
     "execution_count": 19,
     "metadata": {},
     "output_type": "execute_result"
    }
   ],
   "source": [
    "df.isnull().sum()"
   ]
  },
  {
   "cell_type": "markdown",
   "metadata": {
    "papermill": {
     "duration": 0.026882,
     "end_time": "2020-12-23T09:02:47.195931",
     "exception": false,
     "start_time": "2020-12-23T09:02:47.169049",
     "status": "completed"
    },
    "tags": []
   },
   "source": [
    "## EDA"
   ]
  },
  {
   "cell_type": "markdown",
   "metadata": {
    "papermill": {
     "duration": 0.027299,
     "end_time": "2020-12-23T09:02:47.250476",
     "exception": false,
     "start_time": "2020-12-23T09:02:47.223177",
     "status": "completed"
    },
    "tags": []
   },
   "source": [
    "**CATEGORICAL FEATURES**"
   ]
  },
  {
   "cell_type": "code",
   "execution_count": 20,
   "metadata": {
    "execution": {
     "iopub.execute_input": "2020-12-23T09:02:47.311876Z",
     "iopub.status.busy": "2020-12-23T09:02:47.310935Z",
     "iopub.status.idle": "2020-12-23T09:02:47.314743Z",
     "shell.execute_reply": "2020-12-23T09:02:47.315628Z"
    },
    "papermill": {
     "duration": 0.038001,
     "end_time": "2020-12-23T09:02:47.315812",
     "exception": false,
     "start_time": "2020-12-23T09:02:47.277811",
     "status": "completed"
    },
    "tags": []
   },
   "outputs": [
    {
     "name": "stdout",
     "output_type": "stream",
     "text": [
      "len of categorical features 3\n"
     ]
    }
   ],
   "source": [
    "categorical_features = [feature for feature in df.columns if df[feature].dtype == 'O']\n",
    "print(f\"len of categorical features {len(categorical_features)}\")"
   ]
  },
  {
   "cell_type": "code",
   "execution_count": 21,
   "metadata": {
    "execution": {
     "iopub.execute_input": "2020-12-23T09:02:47.377376Z",
     "iopub.status.busy": "2020-12-23T09:02:47.376642Z",
     "iopub.status.idle": "2020-12-23T09:02:47.394351Z",
     "shell.execute_reply": "2020-12-23T09:02:47.393625Z"
    },
    "papermill": {
     "duration": 0.049441,
     "end_time": "2020-12-23T09:02:47.394520",
     "exception": false,
     "start_time": "2020-12-23T09:02:47.345079",
     "status": "completed"
    },
    "tags": []
   },
   "outputs": [
    {
     "data": {
      "text/html": [
       "<div>\n",
       "<style scoped>\n",
       "    .dataframe tbody tr th:only-of-type {\n",
       "        vertical-align: middle;\n",
       "    }\n",
       "\n",
       "    .dataframe tbody tr th {\n",
       "        vertical-align: top;\n",
       "    }\n",
       "\n",
       "    .dataframe thead th {\n",
       "        text-align: right;\n",
       "    }\n",
       "</style>\n",
       "<table border=\"1\" class=\"dataframe\">\n",
       "  <thead>\n",
       "    <tr style=\"text-align: right;\">\n",
       "      <th></th>\n",
       "      <th>Summary</th>\n",
       "      <th>Precip Type</th>\n",
       "      <th>Daily Summary</th>\n",
       "    </tr>\n",
       "  </thead>\n",
       "  <tbody>\n",
       "    <tr>\n",
       "      <th>0</th>\n",
       "      <td>Partly Cloudy</td>\n",
       "      <td>rain</td>\n",
       "      <td>Partly cloudy throughout the day.</td>\n",
       "    </tr>\n",
       "    <tr>\n",
       "      <th>1</th>\n",
       "      <td>Partly Cloudy</td>\n",
       "      <td>rain</td>\n",
       "      <td>Partly cloudy throughout the day.</td>\n",
       "    </tr>\n",
       "    <tr>\n",
       "      <th>2</th>\n",
       "      <td>Mostly Cloudy</td>\n",
       "      <td>rain</td>\n",
       "      <td>Partly cloudy throughout the day.</td>\n",
       "    </tr>\n",
       "    <tr>\n",
       "      <th>3</th>\n",
       "      <td>Partly Cloudy</td>\n",
       "      <td>rain</td>\n",
       "      <td>Partly cloudy throughout the day.</td>\n",
       "    </tr>\n",
       "    <tr>\n",
       "      <th>4</th>\n",
       "      <td>Mostly Cloudy</td>\n",
       "      <td>rain</td>\n",
       "      <td>Partly cloudy throughout the day.</td>\n",
       "    </tr>\n",
       "  </tbody>\n",
       "</table>\n",
       "</div>"
      ],
      "text/plain": [
       "         Summary Precip Type                      Daily Summary\n",
       "0  Partly Cloudy        rain  Partly cloudy throughout the day.\n",
       "1  Partly Cloudy        rain  Partly cloudy throughout the day.\n",
       "2  Mostly Cloudy        rain  Partly cloudy throughout the day.\n",
       "3  Partly Cloudy        rain  Partly cloudy throughout the day.\n",
       "4  Mostly Cloudy        rain  Partly cloudy throughout the day."
      ]
     },
     "execution_count": 21,
     "metadata": {},
     "output_type": "execute_result"
    }
   ],
   "source": [
    "df[categorical_features].head()"
   ]
  },
  {
   "cell_type": "code",
   "execution_count": 22,
   "metadata": {
    "execution": {
     "iopub.execute_input": "2020-12-23T09:02:47.463867Z",
     "iopub.status.busy": "2020-12-23T09:02:47.457058Z",
     "iopub.status.idle": "2020-12-23T09:02:47.466644Z",
     "shell.execute_reply": "2020-12-23T09:02:47.467231Z"
    },
    "papermill": {
     "duration": 0.044427,
     "end_time": "2020-12-23T09:02:47.467407",
     "exception": false,
     "start_time": "2020-12-23T09:02:47.422980",
     "status": "completed"
    },
    "tags": []
   },
   "outputs": [],
   "source": [
    "#drop the Daily summary column\n",
    "df.drop('Daily Summary', axis=1, inplace=True)"
   ]
  },
  {
   "cell_type": "code",
   "execution_count": 23,
   "metadata": {
    "execution": {
     "iopub.execute_input": "2020-12-23T09:02:47.537616Z",
     "iopub.status.busy": "2020-12-23T09:02:47.536618Z",
     "iopub.status.idle": "2020-12-23T09:02:47.587721Z",
     "shell.execute_reply": "2020-12-23T09:02:47.588452Z"
    },
    "papermill": {
     "duration": 0.084305,
     "end_time": "2020-12-23T09:02:47.588674",
     "exception": false,
     "start_time": "2020-12-23T09:02:47.504369",
     "status": "completed"
    },
    "tags": []
   },
   "outputs": [
    {
     "name": "stdout",
     "output_type": "stream",
     "text": [
      "        column        Distinct            Null\n",
      "       Summary              27               0\n",
      "   Precip Type               2             517\n"
     ]
    }
   ],
   "source": [
    "print(\"%14s %15s %15s\" %(\"column\",\"Distinct\",\"Null\"))\n",
    "for col in ['Summary','Precip Type']:\n",
    "    uniq = df[col].nunique()\n",
    "    na = df[col].isnull().sum()\n",
    "    print(\"%14s %15s %15s\" %(col,uniq,na))"
   ]
  },
  {
   "cell_type": "code",
   "execution_count": 24,
   "metadata": {
    "execution": {
     "iopub.execute_input": "2020-12-23T09:02:47.666859Z",
     "iopub.status.busy": "2020-12-23T09:02:47.665894Z",
     "iopub.status.idle": "2020-12-23T09:02:47.677869Z",
     "shell.execute_reply": "2020-12-23T09:02:47.678590Z"
    },
    "papermill": {
     "duration": 0.060755,
     "end_time": "2020-12-23T09:02:47.678746",
     "exception": false,
     "start_time": "2020-12-23T09:02:47.617991",
     "status": "completed"
    },
    "tags": []
   },
   "outputs": [
    {
     "data": {
      "text/plain": [
       "Precip Type\n",
       "rain    13.852989\n",
       "snow    -3.270885\n",
       "Name: Temperature (C), dtype: float64"
      ]
     },
     "execution_count": 24,
     "metadata": {},
     "output_type": "execute_result"
    }
   ],
   "source": [
    "data.groupby('Precip Type')['Temperature (C)'].mean()"
   ]
  },
  {
   "cell_type": "code",
   "execution_count": 25,
   "metadata": {
    "execution": {
     "iopub.execute_input": "2020-12-23T09:02:47.744092Z",
     "iopub.status.busy": "2020-12-23T09:02:47.743077Z",
     "iopub.status.idle": "2020-12-23T09:02:48.275069Z",
     "shell.execute_reply": "2020-12-23T09:02:48.275577Z"
    },
    "papermill": {
     "duration": 0.566813,
     "end_time": "2020-12-23T09:02:48.275732",
     "exception": false,
     "start_time": "2020-12-23T09:02:47.708919",
     "status": "completed"
    },
    "tags": []
   },
   "outputs": [
    {
     "data": {
      "image/png": "[encoded data removed]",
      "text/plain": [
       "<Figure size 1080x360 with 1 Axes>"
      ]
     },
     "metadata": {
      "needs_background": "light"
     },
     "output_type": "display_data"
    }
   ],
   "source": [
    "plt.figure(figsize=(15,5))\n",
    "sns.countplot(x='Summary',hue='Precip Type', data=df)\n",
    "plt.legend(loc='upper right') #1\n",
    "plt.xticks(rotation='vertical')\n",
    "plt.show()"
   ]
  },
  {
   "cell_type": "markdown",
   "metadata": {
    "papermill": {
     "duration": 0.030228,
     "end_time": "2020-12-23T09:02:48.336536",
     "exception": false,
     "start_time": "2020-12-23T09:02:48.306308",
     "status": "completed"
    },
    "tags": []
   },
   "source": [
    "**Numerical Features**"
   ]
  },
  {
   "cell_type": "code",
   "execution_count": 26,
   "metadata": {
    "execution": {
     "iopub.execute_input": "2020-12-23T09:02:48.405990Z",
     "iopub.status.busy": "2020-12-23T09:02:48.405315Z",
     "iopub.status.idle": "2020-12-23T09:02:48.410872Z",
     "shell.execute_reply": "2020-12-23T09:02:48.410102Z"
    },
    "papermill": {
     "duration": 0.043404,
     "end_time": "2020-12-23T09:02:48.411032",
     "exception": false,
     "start_time": "2020-12-23T09:02:48.367628",
     "status": "completed"
    },
    "tags": []
   },
   "outputs": [
    {
     "name": "stdout",
     "output_type": "stream",
     "text": [
      "len of categorical features 9\n"
     ]
    }
   ],
   "source": [
    "numerical_features = [feature for feature in df.columns if df[feature].dtype != 'O']\n",
    "print(f\"len of categorical features {len(numerical_features)}\")"
   ]
  },
  {
   "cell_type": "code",
   "execution_count": 27,
   "metadata": {
    "execution": {
     "iopub.execute_input": "2020-12-23T09:02:48.496112Z",
     "iopub.status.busy": "2020-12-23T09:02:48.495191Z",
     "iopub.status.idle": "2020-12-23T09:02:48.499836Z",
     "shell.execute_reply": "2020-12-23T09:02:48.499242Z"
    },
    "papermill": {
     "duration": 0.057256,
     "end_time": "2020-12-23T09:02:48.499945",
     "exception": false,
     "start_time": "2020-12-23T09:02:48.442689",
     "status": "completed"
    },
    "tags": []
   },
   "outputs": [
    {
     "data": {
      "text/html": [
       "<div>\n",
       "<style scoped>\n",
       "    .dataframe tbody tr th:only-of-type {\n",
       "        vertical-align: middle;\n",
       "    }\n",
       "\n",
       "    .dataframe tbody tr th {\n",
       "        vertical-align: top;\n",
       "    }\n",
       "\n",
       "    .dataframe thead th {\n",
       "        text-align: right;\n",
       "    }\n",
       "</style>\n",
       "<table border=\"1\" class=\"dataframe\">\n",
       "  <thead>\n",
       "    <tr style=\"text-align: right;\">\n",
       "      <th></th>\n",
       "      <th>Formatted Date</th>\n",
       "      <th>Temperature (C)</th>\n",
       "      <th>Apparent Temperature (C)</th>\n",
       "      <th>Humidity</th>\n",
       "      <th>Wind Speed (km/h)</th>\n",
       "      <th>Wind Bearing (degrees)</th>\n",
       "      <th>Visibility (km)</th>\n",
       "      <th>Loud Cover</th>\n",
       "      <th>Pressure (millibars)</th>\n",
       "    </tr>\n",
       "  </thead>\n",
       "  <tbody>\n",
       "    <tr>\n",
       "      <th>0</th>\n",
       "      <td>2006-03-31 22:00:00+00:00</td>\n",
       "      <td>9.472222</td>\n",
       "      <td>7.388889</td>\n",
       "      <td>0.89</td>\n",
       "      <td>14.1197</td>\n",
       "      <td>251.0</td>\n",
       "      <td>15.8263</td>\n",
       "      <td>0.0</td>\n",
       "      <td>1015.13</td>\n",
       "    </tr>\n",
       "    <tr>\n",
       "      <th>1</th>\n",
       "      <td>2006-03-31 23:00:00+00:00</td>\n",
       "      <td>9.355556</td>\n",
       "      <td>7.227778</td>\n",
       "      <td>0.86</td>\n",
       "      <td>14.2646</td>\n",
       "      <td>259.0</td>\n",
       "      <td>15.8263</td>\n",
       "      <td>0.0</td>\n",
       "      <td>1015.63</td>\n",
       "    </tr>\n",
       "    <tr>\n",
       "      <th>2</th>\n",
       "      <td>2006-04-01 00:00:00+00:00</td>\n",
       "      <td>9.377778</td>\n",
       "      <td>9.377778</td>\n",
       "      <td>0.89</td>\n",
       "      <td>3.9284</td>\n",
       "      <td>204.0</td>\n",
       "      <td>14.9569</td>\n",
       "      <td>0.0</td>\n",
       "      <td>1015.94</td>\n",
       "    </tr>\n",
       "  </tbody>\n",
       "</table>\n",
       "</div>"
      ],
      "text/plain": [
       "             Formatted Date  Temperature (C)  Apparent Temperature (C)  \\\n",
       "0 2006-03-31 22:00:00+00:00         9.472222                  7.388889   \n",
       "1 2006-03-31 23:00:00+00:00         9.355556                  7.227778   \n",
       "2 2006-04-01 00:00:00+00:00         9.377778                  9.377778   \n",
       "\n",
       "   Humidity  Wind Speed (km/h)  Wind Bearing (degrees)  Visibility (km)  \\\n",
       "0      0.89            14.1197                   251.0          15.8263   \n",
       "1      0.86            14.2646                   259.0          15.8263   \n",
       "2      0.89             3.9284                   204.0          14.9569   \n",
       "\n",
       "   Loud Cover  Pressure (millibars)  \n",
       "0         0.0               1015.13  \n",
       "1         0.0               1015.63  \n",
       "2         0.0               1015.94  "
      ]
     },
     "execution_count": 27,
     "metadata": {},
     "output_type": "execute_result"
    }
   ],
   "source": [
    "df[numerical_features].head(3)"
   ]
  },
  {
   "cell_type": "markdown",
   "metadata": {
    "papermill": {
     "duration": 0.032013,
     "end_time": "2020-12-23T09:02:48.564176",
     "exception": false,
     "start_time": "2020-12-23T09:02:48.532163",
     "status": "completed"
    },
    "tags": []
   },
   "source": [
    "**Now since we have been given hourly data, we need to resample it monthly. Resampling is a convenient method for frequency conversion. Object must have a datetime like index**\n",
    "\n",
    "### After Resampling"
   ]
  },
  {
   "cell_type": "code",
   "execution_count": 28,
   "metadata": {
    "execution": {
     "iopub.execute_input": "2020-12-23T09:02:48.634536Z",
     "iopub.status.busy": "2020-12-23T09:02:48.633363Z",
     "iopub.status.idle": "2020-12-23T09:02:48.686214Z",
     "shell.execute_reply": "2020-12-23T09:02:48.686778Z"
    },
    "papermill": {
     "duration": 0.090919,
     "end_time": "2020-12-23T09:02:48.686950",
     "exception": false,
     "start_time": "2020-12-23T09:02:48.596031",
     "status": "completed"
    },
    "tags": []
   },
   "outputs": [
    {
     "data": {
      "text/html": [
       "<div>\n",
       "<style scoped>\n",
       "    .dataframe tbody tr th:only-of-type {\n",
       "        vertical-align: middle;\n",
       "    }\n",
       "\n",
       "    .dataframe tbody tr th {\n",
       "        vertical-align: top;\n",
       "    }\n",
       "\n",
       "    .dataframe thead th {\n",
       "        text-align: right;\n",
       "    }\n",
       "</style>\n",
       "<table border=\"1\" class=\"dataframe\">\n",
       "  <thead>\n",
       "    <tr style=\"text-align: right;\">\n",
       "      <th></th>\n",
       "      <th>Apparent Temperature (C)</th>\n",
       "      <th>Humidity</th>\n",
       "    </tr>\n",
       "    <tr>\n",
       "      <th>Formatted Date</th>\n",
       "      <th></th>\n",
       "      <th></th>\n",
       "    </tr>\n",
       "  </thead>\n",
       "  <tbody>\n",
       "    <tr>\n",
       "      <th>2005-12-01 00:00:00+00:00</th>\n",
       "      <td>-4.050000</td>\n",
       "      <td>0.890000</td>\n",
       "    </tr>\n",
       "    <tr>\n",
       "      <th>2006-01-01 00:00:00+00:00</th>\n",
       "      <td>-4.173708</td>\n",
       "      <td>0.834610</td>\n",
       "    </tr>\n",
       "    <tr>\n",
       "      <th>2006-02-01 00:00:00+00:00</th>\n",
       "      <td>-2.990716</td>\n",
       "      <td>0.843467</td>\n",
       "    </tr>\n",
       "    <tr>\n",
       "      <th>2006-03-01 00:00:00+00:00</th>\n",
       "      <td>1.969780</td>\n",
       "      <td>0.778737</td>\n",
       "    </tr>\n",
       "    <tr>\n",
       "      <th>2006-04-01 00:00:00+00:00</th>\n",
       "      <td>12.098827</td>\n",
       "      <td>0.728625</td>\n",
       "    </tr>\n",
       "    <tr>\n",
       "      <th>...</th>\n",
       "      <td>...</td>\n",
       "      <td>...</td>\n",
       "    </tr>\n",
       "    <tr>\n",
       "      <th>2016-08-01 00:00:00+00:00</th>\n",
       "      <td>21.383094</td>\n",
       "      <td>0.674046</td>\n",
       "    </tr>\n",
       "    <tr>\n",
       "      <th>2016-09-01 00:00:00+00:00</th>\n",
       "      <td>18.355833</td>\n",
       "      <td>0.688833</td>\n",
       "    </tr>\n",
       "    <tr>\n",
       "      <th>2016-10-01 00:00:00+00:00</th>\n",
       "      <td>8.923947</td>\n",
       "      <td>0.799906</td>\n",
       "    </tr>\n",
       "    <tr>\n",
       "      <th>2016-11-01 00:00:00+00:00</th>\n",
       "      <td>3.048627</td>\n",
       "      <td>0.848472</td>\n",
       "    </tr>\n",
       "    <tr>\n",
       "      <th>2016-12-01 00:00:00+00:00</th>\n",
       "      <td>-2.017272</td>\n",
       "      <td>0.887981</td>\n",
       "    </tr>\n",
       "  </tbody>\n",
       "</table>\n",
       "<p>133 rows × 2 columns</p>\n",
       "</div>"
      ],
      "text/plain": [
       "                           Apparent Temperature (C)  Humidity\n",
       "Formatted Date                                               \n",
       "2005-12-01 00:00:00+00:00                 -4.050000  0.890000\n",
       "2006-01-01 00:00:00+00:00                 -4.173708  0.834610\n",
       "2006-02-01 00:00:00+00:00                 -2.990716  0.843467\n",
       "2006-03-01 00:00:00+00:00                  1.969780  0.778737\n",
       "2006-04-01 00:00:00+00:00                 12.098827  0.728625\n",
       "...                                             ...       ...\n",
       "2016-08-01 00:00:00+00:00                 21.383094  0.674046\n",
       "2016-09-01 00:00:00+00:00                 18.355833  0.688833\n",
       "2016-10-01 00:00:00+00:00                  8.923947  0.799906\n",
       "2016-11-01 00:00:00+00:00                  3.048627  0.848472\n",
       "2016-12-01 00:00:00+00:00                 -2.017272  0.887981\n",
       "\n",
       "[133 rows x 2 columns]"
      ]
     },
     "execution_count": 28,
     "metadata": {},
     "output_type": "execute_result"
    }
   ],
   "source": [
    "df1 = df.set_index('Formatted Date')\n",
    "df1 = df1[['Apparent Temperature (C)','Humidity']].resample('MS').mean()\n",
    "df1"
   ]
  },
  {
   "cell_type": "markdown",
   "metadata": {
    "papermill": {
     "duration": 0.032068,
     "end_time": "2020-12-23T09:02:48.752116",
     "exception": false,
     "start_time": "2020-12-23T09:02:48.720048",
     "status": "completed"
    },
    "tags": []
   },
   "source": [
    "**Here, MS means Monthly Starting. we are displaying the average Apparent temperature w.r.t Humidity with help of mean().**"
   ]
  },
  {
   "cell_type": "code",
   "execution_count": 29,
   "metadata": {
    "execution": {
     "iopub.execute_input": "2020-12-23T09:02:48.821575Z",
     "iopub.status.busy": "2020-12-23T09:02:48.820842Z",
     "iopub.status.idle": "2020-12-23T09:02:48.999829Z",
     "shell.execute_reply": "2020-12-23T09:02:49.000340Z"
    },
    "papermill": {
     "duration": 0.215674,
     "end_time": "2020-12-23T09:02:49.000537",
     "exception": false,
     "start_time": "2020-12-23T09:02:48.784863",
     "status": "completed"
    },
    "tags": []
   },
   "outputs": [
    {
     "data": {
      "image/png": "[encoded data removed]",
      "text/plain": [
       "<Figure size 792x360 with 1 Axes>"
      ]
     },
     "metadata": {
      "needs_background": "light"
     },
     "output_type": "display_data"
    }
   ],
   "source": [
    "# relation between temperature and Humidity\n",
    "plt.figure(figsize=(11,5))\n",
    "plt.plot(df1['Apparent Temperature (C)'], label=\"Temperature\", color=\"green\")\n",
    "plt.plot(df1['Humidity'], label=\"Humidity\", color=\"blue\", linestyle=\"dashed\", linewidth=3)\n",
    "plt.title(\"Variation Of Apparent Temperature Vs Humidity \")\n",
    "plt.legend(loc=\"best\")\n",
    "plt.show()"
   ]
  },
  {
   "cell_type": "markdown",
   "metadata": {
    "papermill": {
     "duration": 0.03394,
     "end_time": "2020-12-23T09:02:49.069135",
     "exception": false,
     "start_time": "2020-12-23T09:02:49.035195",
     "status": "completed"
    },
    "tags": []
   },
   "source": [
    "**Observation**\n",
    "- from the above graph we can say that Humidity is almost constant in these years. and temperature is also the same as peak lies on same line."
   ]
  },
  {
   "cell_type": "markdown",
   "metadata": {
    "papermill": {
     "duration": 0.034056,
     "end_time": "2020-12-23T09:02:49.137525",
     "exception": false,
     "start_time": "2020-12-23T09:02:49.103469",
     "status": "completed"
    },
    "tags": []
   },
   "source": [
    "**The problem statement suggest that to check the variation of humidity of all the 10 years (2006-2016). so let;s check the graph for some months separately**"
   ]
  },
  {
   "cell_type": "markdown",
   "metadata": {
    "papermill": {
     "duration": 0.034018,
     "end_time": "2020-12-23T09:02:49.205846",
     "exception": false,
     "start_time": "2020-12-23T09:02:49.171828",
     "status": "completed"
    },
    "tags": []
   },
   "source": [
    "**Analysis of Variation of Temperature w.r.t Humidity from 2006 to 2016 in different months.**"
   ]
  },
  {
   "cell_type": "code",
   "execution_count": 30,
   "metadata": {
    "execution": {
     "iopub.execute_input": "2020-12-23T09:02:49.279839Z",
     "iopub.status.busy": "2020-12-23T09:02:49.279148Z",
     "iopub.status.idle": "2020-12-23T09:02:49.282732Z",
     "shell.execute_reply": "2020-12-23T09:02:49.283274Z"
    },
    "papermill": {
     "duration": 0.042587,
     "end_time": "2020-12-23T09:02:49.283434",
     "exception": false,
     "start_time": "2020-12-23T09:02:49.240847",
     "status": "completed"
    },
    "tags": []
   },
   "outputs": [],
   "source": [
    "# Jan 2006 to Jan 2016"
   ]
  },
  {
   "cell_type": "code",
   "execution_count": 31,
   "metadata": {
    "execution": {
     "iopub.execute_input": "2020-12-23T09:02:49.356746Z",
     "iopub.status.busy": "2020-12-23T09:02:49.356003Z",
     "iopub.status.idle": "2020-12-23T09:02:49.389447Z",
     "shell.execute_reply": "2020-12-23T09:02:49.388847Z"
    },
    "papermill": {
     "duration": 0.071253,
     "end_time": "2020-12-23T09:02:49.389573",
     "exception": false,
     "start_time": "2020-12-23T09:02:49.318320",
     "status": "completed"
    },
    "tags": []
   },
   "outputs": [
    {
     "data": {
      "text/html": [
       "<div>\n",
       "<style scoped>\n",
       "    .dataframe tbody tr th:only-of-type {\n",
       "        vertical-align: middle;\n",
       "    }\n",
       "\n",
       "    .dataframe tbody tr th {\n",
       "        vertical-align: top;\n",
       "    }\n",
       "\n",
       "    .dataframe thead th {\n",
       "        text-align: right;\n",
       "    }\n",
       "</style>\n",
       "<table border=\"1\" class=\"dataframe\">\n",
       "  <thead>\n",
       "    <tr style=\"text-align: right;\">\n",
       "      <th></th>\n",
       "      <th>Apparent Temperature (C)</th>\n",
       "      <th>Humidity</th>\n",
       "    </tr>\n",
       "    <tr>\n",
       "      <th>Formatted Date</th>\n",
       "      <th></th>\n",
       "      <th></th>\n",
       "    </tr>\n",
       "  </thead>\n",
       "  <tbody>\n",
       "    <tr>\n",
       "      <th>2006-01-01 00:00:00+00:00</th>\n",
       "      <td>-4.173708</td>\n",
       "      <td>0.834610</td>\n",
       "    </tr>\n",
       "    <tr>\n",
       "      <th>2007-01-01 00:00:00+00:00</th>\n",
       "      <td>2.387015</td>\n",
       "      <td>0.813495</td>\n",
       "    </tr>\n",
       "  </tbody>\n",
       "</table>\n",
       "</div>"
      ],
      "text/plain": [
       "                           Apparent Temperature (C)  Humidity\n",
       "Formatted Date                                               \n",
       "2006-01-01 00:00:00+00:00                 -4.173708  0.834610\n",
       "2007-01-01 00:00:00+00:00                  2.387015  0.813495"
      ]
     },
     "execution_count": 31,
     "metadata": {},
     "output_type": "execute_result"
    }
   ],
   "source": [
    "jan = df1[df1.index.month==1]\n",
    "jan.head(2)"
   ]
  },
  {
   "cell_type": "code",
   "execution_count": 32,
   "metadata": {
    "execution": {
     "iopub.execute_input": "2020-12-23T09:02:49.470646Z",
     "iopub.status.busy": "2020-12-23T09:02:49.469913Z",
     "iopub.status.idle": "2020-12-23T09:02:49.662665Z",
     "shell.execute_reply": "2020-12-23T09:02:49.661960Z"
    },
    "papermill": {
     "duration": 0.238238,
     "end_time": "2020-12-23T09:02:49.662781",
     "exception": false,
     "start_time": "2020-12-23T09:02:49.424543",
     "status": "completed"
    },
    "tags": []
   },
   "outputs": [
    {
     "data": {
      "image/png": "[encoded data removed]",
      "text/plain": [
       "<Figure size 720x288 with 1 Axes>"
      ]
     },
     "metadata": {
      "needs_background": "light"
     },
     "output_type": "display_data"
    }
   ],
   "source": [
    "plt.figure(figsize=(10,4))\n",
    "plt.plot(jan.loc['2006-01-01':'2016-01-01','Apparent Temperature (C)'],\n",
    "        marker='o',label=\"Apparent Temperature\",linestyle='-',color=\"green\")\n",
    "plt.plot(jan.loc['2006-01-01':'2016-01-01','Humidity'],marker='o',\n",
    "        linestyle='-',label=\"Humidity\",color=\"blue\")\n",
    "plt.title(\"App Temp Vs Humidity variation in JAN 2006 TO JAN 2016\")\n",
    "plt.legend(loc=\"best\")\n",
    "plt.xticks(rotation=45)\n",
    "plt.show()"
   ]
  },
  {
   "cell_type": "code",
   "execution_count": 33,
   "metadata": {
    "execution": {
     "iopub.execute_input": "2020-12-23T09:02:49.759054Z",
     "iopub.status.busy": "2020-12-23T09:02:49.757166Z",
     "iopub.status.idle": "2020-12-23T09:02:49.941148Z",
     "shell.execute_reply": "2020-12-23T09:02:49.941634Z"
    },
    "papermill": {
     "duration": 0.240729,
     "end_time": "2020-12-23T09:02:49.941786",
     "exception": false,
     "start_time": "2020-12-23T09:02:49.701057",
     "status": "completed"
    },
    "tags": []
   },
   "outputs": [
    {
     "data": {
      "image/png": "[encoded data removed]",
      "text/plain": [
       "<Figure size 720x288 with 1 Axes>"
      ]
     },
     "metadata": {
      "needs_background": "light"
     },
     "output_type": "display_data"
    }
   ],
   "source": [
    "feb = df1[df1.index.month==2]\n",
    "\n",
    "plt.figure(figsize=(10,4))\n",
    "plt.plot(feb.loc['2006-02-01':'2016-02-01','Apparent Temperature (C)'],\n",
    "        marker='o',linestyle='-',label=\"Apparent Temperature\",color=\"green\")\n",
    "plt.plot(feb.loc['2006-02-01':'2016-02-01','Humidity'],\n",
    "        marker='o',linestyle='-',label=\"Humidity\",color=\"blue\")\n",
    "plt.title(\"App Temp Vs Humidity variation in FEB 2006 TO FEB 2016\")\n",
    "plt.legend(loc=\"best\")\n",
    "plt.xticks(rotation=45)\n",
    "plt.show()"
   ]
  },
  {
   "cell_type": "code",
   "execution_count": 34,
   "metadata": {
    "execution": {
     "iopub.execute_input": "2020-12-23T09:02:50.129074Z",
     "iopub.status.busy": "2020-12-23T09:02:50.031695Z",
     "iopub.status.idle": "2020-12-23T09:02:50.291058Z",
     "shell.execute_reply": "2020-12-23T09:02:50.290473Z"
    },
    "papermill": {
     "duration": 0.311241,
     "end_time": "2020-12-23T09:02:50.291171",
     "exception": false,
     "start_time": "2020-12-23T09:02:49.979930",
     "status": "completed"
    },
    "tags": []
   },
   "outputs": [
    {
     "data": {
      "image/png": "[encoded data removed]",
      "text/plain": [
       "<Figure size 720x288 with 1 Axes>"
      ]
     },
     "metadata": {
      "needs_background": "light"
     },
     "output_type": "display_data"
    }
   ],
   "source": [
    "march = df1[df1.index.month==3]\n",
    "\n",
    "plt.figure(figsize=(10,4))\n",
    "plt.plot(march.loc['2006-03-01':'2016-03-01','Apparent Temperature (C)'],\n",
    "        marker='o',linestyle='-',label=\"Apparent Temperature\",color=\"green\")\n",
    "plt.plot(march.loc['2006-03-01':'2016-03-01','Humidity'],\n",
    "        marker='o',linestyle='-',label=\"Humidity\",color=\"blue\")\n",
    "plt.title(\"App Temp Vs Humidity variation in MAR 2006 TO MAR 2016\")\n",
    "plt.legend(loc=\"best\")\n",
    "plt.xticks(rotation=45)\n",
    "plt.show()"
   ]
  },
  {
   "cell_type": "code",
   "execution_count": 35,
   "metadata": {
    "execution": {
     "iopub.execute_input": "2020-12-23T09:02:50.395694Z",
     "iopub.status.busy": "2020-12-23T09:02:50.386942Z",
     "iopub.status.idle": "2020-12-23T09:02:50.566031Z",
     "shell.execute_reply": "2020-12-23T09:02:50.565456Z"
    },
    "papermill": {
     "duration": 0.234826,
     "end_time": "2020-12-23T09:02:50.566143",
     "exception": false,
     "start_time": "2020-12-23T09:02:50.331317",
     "status": "completed"
    },
    "tags": []
   },
   "outputs": [
    {
     "data": {
      "image/png": "[encoded data removed]",
      "text/plain": [
       "<Figure size 720x288 with 1 Axes>"
      ]
     },
     "metadata": {
      "needs_background": "light"
     },
     "output_type": "display_data"
    }
   ],
   "source": [
    "april = df1[df1.index.month==4]\n",
    "\n",
    "plt.figure(figsize=(10,4))\n",
    "plt.plot(april.loc['2006-04-01':'2016-04-01','Apparent Temperature (C)'],\n",
    "        marker='o',linestyle='-',label=\"Apparent Temperature\",color=\"green\")\n",
    "plt.plot(april.loc['2006-04-01':'2016-04-01','Humidity'],\n",
    "        marker='o',linestyle='-',label=\"Humidity\",color=\"blue\")\n",
    "plt.title(\"App Temp Vs Humidity variation in APRIL 2006 TO APRIL 2016\")\n",
    "plt.legend(loc=\"best\")\n",
    "plt.xticks(rotation=45)\n",
    "plt.show()"
   ]
  },
  {
   "cell_type": "code",
   "execution_count": 36,
   "metadata": {
    "execution": {
     "iopub.execute_input": "2020-12-23T09:02:50.666373Z",
     "iopub.status.busy": "2020-12-23T09:02:50.665590Z",
     "iopub.status.idle": "2020-12-23T09:02:50.838704Z",
     "shell.execute_reply": "2020-12-23T09:02:50.837921Z"
    },
    "papermill": {
     "duration": 0.232457,
     "end_time": "2020-12-23T09:02:50.838846",
     "exception": false,
     "start_time": "2020-12-23T09:02:50.606389",
     "status": "completed"
    },
    "tags": []
   },
   "outputs": [
    {
     "data": {
      "image/png": "[encoded data removed]",
      "text/plain": [
       "<Figure size 720x288 with 1 Axes>"
      ]
     },
     "metadata": {
      "needs_background": "light"
     },
     "output_type": "display_data"
    }
   ],
   "source": [
    "may = df1[df1.index.month==5]\n",
    "\n",
    "plt.figure(figsize=(10,4))\n",
    "plt.plot(may.loc['2006-05-01':'2016-05-01','Apparent Temperature (C)'],\n",
    "        marker='o',linestyle='-',label=\"Apparent Temperature\",color=\"green\")\n",
    "plt.plot(may.loc['2006-05-01':'2016-05-01','Humidity'],\n",
    "        marker='o',linestyle='-',label=\"Humidity\",color=\"blue\")\n",
    "plt.title(\"App Temp Vs Humidity variation in MAY 2006 TO MAY 2016\")\n",
    "plt.legend(loc=\"best\")\n",
    "plt.xticks(rotation=45)\n",
    "plt.show()"
   ]
  },
  {
   "cell_type": "code",
   "execution_count": 37,
   "metadata": {
    "execution": {
     "iopub.execute_input": "2020-12-23T09:02:50.951173Z",
     "iopub.status.busy": "2020-12-23T09:02:50.945990Z",
     "iopub.status.idle": "2020-12-23T09:02:51.140650Z",
     "shell.execute_reply": "2020-12-23T09:02:51.139933Z"
    },
    "papermill": {
     "duration": 0.257928,
     "end_time": "2020-12-23T09:02:51.140774",
     "exception": false,
     "start_time": "2020-12-23T09:02:50.882846",
     "status": "completed"
    },
    "tags": []
   },
   "outputs": [
    {
     "data": {
      "image/png": "[encoded data removed]",
      "text/plain": [
       "<Figure size 720x288 with 1 Axes>"
      ]
     },
     "metadata": {
      "needs_background": "light"
     },
     "output_type": "display_data"
    }
   ],
   "source": [
    "june = df1[df1.index.month==6]\n",
    "\n",
    "plt.figure(figsize=(10,4))\n",
    "plt.plot(march.loc['2006-06-01':'2016-06-01','Apparent Temperature (C)'],\n",
    "        marker='o',linestyle='-',label=\"Apparent Temperature\",color=\"green\")\n",
    "plt.plot(march.loc['2006-06-01':'2016-06-01','Humidity'],\n",
    "        marker='o',linestyle='-',label=\"Humidity\",color=\"blue\")\n",
    "plt.title(\"App Temp Vs Humidity variation in June 2006 TO June 2016\")\n",
    "plt.legend(loc=\"best\")\n",
    "plt.xticks(rotation=45)\n",
    "plt.show()"
   ]
  },
  {
   "cell_type": "code",
   "execution_count": 38,
   "metadata": {
    "execution": {
     "iopub.execute_input": "2020-12-23T09:02:51.247794Z",
     "iopub.status.busy": "2020-12-23T09:02:51.247023Z",
     "iopub.status.idle": "2020-12-23T09:02:51.436250Z",
     "shell.execute_reply": "2020-12-23T09:02:51.435519Z"
    },
    "papermill": {
     "duration": 0.251201,
     "end_time": "2020-12-23T09:02:51.436370",
     "exception": false,
     "start_time": "2020-12-23T09:02:51.185169",
     "status": "completed"
    },
    "tags": []
   },
   "outputs": [
    {
     "data": {
      "image/png": "[encoded data removed]",
      "text/plain": [
       "<Figure size 720x288 with 1 Axes>"
      ]
     },
     "metadata": {
      "needs_background": "light"
     },
     "output_type": "display_data"
    }
   ],
   "source": [
    "july = df1[df1.index.month==6]\n",
    "\n",
    "plt.figure(figsize=(10,4))\n",
    "plt.plot(march.loc['2006-07-01':'2016-07-01','Apparent Temperature (C)'],\n",
    "        marker='o',linestyle='-',label=\"Apparent Temperature\",color=\"green\")\n",
    "plt.plot(march.loc['2006-07-01':'2016-07-01','Humidity'],\n",
    "        marker='o',linestyle='-',label=\"Humidity\",color=\"blue\")\n",
    "plt.title(\"App Temp Vs Humidity variation in July 2006 TO July 2016\")\n",
    "plt.legend(loc=\"best\")\n",
    "plt.xticks(rotation=45)\n",
    "plt.show()"
   ]
  },
  {
   "cell_type": "markdown",
   "metadata": {
    "papermill": {
     "duration": 0.045066,
     "end_time": "2020-12-23T09:02:51.525968",
     "exception": false,
     "start_time": "2020-12-23T09:02:51.480902",
     "status": "completed"
    },
    "tags": []
   },
   "source": [
    "**OBSERVATIONS**\n",
    "- With respect to humidity appraent temperature every year and every month varying a lot. sometimes it is at peak and sometimes temp fall down.\n",
    "- humidity is as constant as app temp varies according to month each year."
   ]
  },
  {
   "cell_type": "markdown",
   "metadata": {
    "papermill": {
     "duration": 0.044386,
     "end_time": "2020-12-23T09:02:51.615644",
     "exception": false,
     "start_time": "2020-12-23T09:02:51.571258",
     "status": "completed"
    },
    "tags": []
   },
   "source": [
    "**Let's check Wind speed w.r.t Humidity**"
   ]
  },
  {
   "cell_type": "code",
   "execution_count": 39,
   "metadata": {
    "execution": {
     "iopub.execute_input": "2020-12-23T09:02:51.713236Z",
     "iopub.status.busy": "2020-12-23T09:02:51.711504Z",
     "iopub.status.idle": "2020-12-23T09:02:51.755755Z",
     "shell.execute_reply": "2020-12-23T09:02:51.755033Z"
    },
    "papermill": {
     "duration": 0.094232,
     "end_time": "2020-12-23T09:02:51.755875",
     "exception": false,
     "start_time": "2020-12-23T09:02:51.661643",
     "status": "completed"
    },
    "tags": []
   },
   "outputs": [
    {
     "data": {
      "text/html": [
       "<div>\n",
       "<style scoped>\n",
       "    .dataframe tbody tr th:only-of-type {\n",
       "        vertical-align: middle;\n",
       "    }\n",
       "\n",
       "    .dataframe tbody tr th {\n",
       "        vertical-align: top;\n",
       "    }\n",
       "\n",
       "    .dataframe thead th {\n",
       "        text-align: right;\n",
       "    }\n",
       "</style>\n",
       "<table border=\"1\" class=\"dataframe\">\n",
       "  <thead>\n",
       "    <tr style=\"text-align: right;\">\n",
       "      <th></th>\n",
       "      <th>Temperature (C)</th>\n",
       "      <th>Wind Speed (km/h)</th>\n",
       "      <th>Humidity</th>\n",
       "    </tr>\n",
       "    <tr>\n",
       "      <th>Formatted Date</th>\n",
       "      <th></th>\n",
       "      <th></th>\n",
       "      <th></th>\n",
       "    </tr>\n",
       "  </thead>\n",
       "  <tbody>\n",
       "    <tr>\n",
       "      <th>2005-12-01 00:00:00+00:00</th>\n",
       "      <td>0.577778</td>\n",
       "      <td>17.114300</td>\n",
       "      <td>0.890000</td>\n",
       "    </tr>\n",
       "    <tr>\n",
       "      <th>2006-01-01 00:00:00+00:00</th>\n",
       "      <td>-1.677942</td>\n",
       "      <td>8.894211</td>\n",
       "      <td>0.834610</td>\n",
       "    </tr>\n",
       "    <tr>\n",
       "      <th>2006-02-01 00:00:00+00:00</th>\n",
       "      <td>-0.065394</td>\n",
       "      <td>10.957008</td>\n",
       "      <td>0.843467</td>\n",
       "    </tr>\n",
       "    <tr>\n",
       "      <th>2006-03-01 00:00:00+00:00</th>\n",
       "      <td>4.559274</td>\n",
       "      <td>14.421488</td>\n",
       "      <td>0.778737</td>\n",
       "    </tr>\n",
       "    <tr>\n",
       "      <th>2006-04-01 00:00:00+00:00</th>\n",
       "      <td>12.635031</td>\n",
       "      <td>10.930670</td>\n",
       "      <td>0.728625</td>\n",
       "    </tr>\n",
       "    <tr>\n",
       "      <th>...</th>\n",
       "      <td>...</td>\n",
       "      <td>...</td>\n",
       "      <td>...</td>\n",
       "    </tr>\n",
       "    <tr>\n",
       "      <th>2016-08-01 00:00:00+00:00</th>\n",
       "      <td>21.420296</td>\n",
       "      <td>9.151378</td>\n",
       "      <td>0.674046</td>\n",
       "    </tr>\n",
       "    <tr>\n",
       "      <th>2016-09-01 00:00:00+00:00</th>\n",
       "      <td>18.467924</td>\n",
       "      <td>6.849029</td>\n",
       "      <td>0.688833</td>\n",
       "    </tr>\n",
       "    <tr>\n",
       "      <th>2016-10-01 00:00:00+00:00</th>\n",
       "      <td>9.893242</td>\n",
       "      <td>11.566855</td>\n",
       "      <td>0.799906</td>\n",
       "    </tr>\n",
       "    <tr>\n",
       "      <th>2016-11-01 00:00:00+00:00</th>\n",
       "      <td>5.282662</td>\n",
       "      <td>10.302860</td>\n",
       "      <td>0.848472</td>\n",
       "    </tr>\n",
       "    <tr>\n",
       "      <th>2016-12-01 00:00:00+00:00</th>\n",
       "      <td>1.239158</td>\n",
       "      <td>11.024860</td>\n",
       "      <td>0.887981</td>\n",
       "    </tr>\n",
       "  </tbody>\n",
       "</table>\n",
       "<p>133 rows × 3 columns</p>\n",
       "</div>"
      ],
      "text/plain": [
       "                           Temperature (C)  Wind Speed (km/h)  Humidity\n",
       "Formatted Date                                                         \n",
       "2005-12-01 00:00:00+00:00         0.577778          17.114300  0.890000\n",
       "2006-01-01 00:00:00+00:00        -1.677942           8.894211  0.834610\n",
       "2006-02-01 00:00:00+00:00        -0.065394          10.957008  0.843467\n",
       "2006-03-01 00:00:00+00:00         4.559274          14.421488  0.778737\n",
       "2006-04-01 00:00:00+00:00        12.635031          10.930670  0.728625\n",
       "...                                    ...                ...       ...\n",
       "2016-08-01 00:00:00+00:00        21.420296           9.151378  0.674046\n",
       "2016-09-01 00:00:00+00:00        18.467924           6.849029  0.688833\n",
       "2016-10-01 00:00:00+00:00         9.893242          11.566855  0.799906\n",
       "2016-11-01 00:00:00+00:00         5.282662          10.302860  0.848472\n",
       "2016-12-01 00:00:00+00:00         1.239158          11.024860  0.887981\n",
       "\n",
       "[133 rows x 3 columns]"
      ]
     },
     "execution_count": 39,
     "metadata": {},
     "output_type": "execute_result"
    }
   ],
   "source": [
    "df2 = df.set_index('Formatted Date')\n",
    "df2 = df2[['Temperature (C)','Wind Speed (km/h)','Humidity']].resample('MS').mean()\n",
    "df2"
   ]
  },
  {
   "cell_type": "code",
   "execution_count": 40,
   "metadata": {
    "execution": {
     "iopub.execute_input": "2020-12-23T09:02:51.872786Z",
     "iopub.status.busy": "2020-12-23T09:02:51.870913Z",
     "iopub.status.idle": "2020-12-23T09:02:52.053058Z",
     "shell.execute_reply": "2020-12-23T09:02:52.052387Z"
    },
    "papermill": {
     "duration": 0.251245,
     "end_time": "2020-12-23T09:02:52.053175",
     "exception": false,
     "start_time": "2020-12-23T09:02:51.801930",
     "status": "completed"
    },
    "tags": []
   },
   "outputs": [
    {
     "data": {
      "image/png": "[encoded data removed]",
      "text/plain": [
       "<Figure size 720x288 with 1 Axes>"
      ]
     },
     "metadata": {
      "needs_background": "light"
     },
     "output_type": "display_data"
    }
   ],
   "source": [
    "janw = df2[df2.index.month == 1]\n",
    "\n",
    "plt.figure(figsize=(10,4))\n",
    "plt.plot(janw.loc['2006-01-01':'2016-01-01','Wind Speed (km/h)'],\n",
    "        marker='o',linestyle='-',color=\"orange\", label=\"Wind Speed (km/h)\")\n",
    "plt.plot(janw.loc['2006-01-01':'2016-01-01','Humidity'],\n",
    "        marker='o',linestyle='-',color=\"purple\", label=\"Wind Speed (km/h)\")\n",
    "plt.title(\"Variation of wind spped with humidity in JAN 2006 TO JAN 2016\")\n",
    "plt.legend(loc=\"best\")\n",
    "plt.show()"
   ]
  },
  {
   "cell_type": "markdown",
   "metadata": {
    "papermill": {
     "duration": 0.045987,
     "end_time": "2020-12-23T09:02:52.144907",
     "exception": false,
     "start_time": "2020-12-23T09:02:52.098920",
     "status": "completed"
    },
    "tags": []
   },
   "source": [
    "##  \"Humidity\" is better Feature than \"Apparent Temperature (C)\".There is no change in Humidity from 2006–2016."
   ]
  },
  {
   "cell_type": "code",
   "execution_count": null,
   "metadata": {},
   "outputs": [],
   "source": []
  }
 ],
 "metadata": {
  "kernelspec": {
   "display_name": "Python 3",
   "language": "python",
   "name": "python3"
  },
  "language_info": {
   "codemirror_mode": {
    "name": "ipython",
    "version": 3
   },
   "file_extension": ".py",
   "mimetype": "text/x-python",
   "name": "python",
   "nbconvert_exporter": "python",
   "pygments_lexer": "ipython3",
   "version": "3.8.5"
  },
  "papermill": {
   "duration": 14.088466,
   "end_time": "2020-12-23T09:02:52.302400",
   "environment_variables": {},
   "exception": null,
   "input_path": "__notebook__.ipynb",
   "output_path": "__notebook__.ipynb",
   "parameters": {},
   "start_time": "2020-12-23T09:02:38.213934",
   "version": "2.1.0"
  },
  "widgets": {
   "application/vnd.jupyter.widget-state+json": {
    "state": {},
    "version_major": 2,
    "version_minor": 0
   }
  }
 },
 "nbformat": 4,
 "nbformat_minor": 4
}
